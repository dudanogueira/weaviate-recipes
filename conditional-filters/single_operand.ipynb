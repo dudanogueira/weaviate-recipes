{
 "cells": [
  {
   "cell_type": "code",
   "execution_count": 7,
   "id": "61fbfd20-3ba9-4a6f-89c7-769187963229",
   "metadata": {},
   "outputs": [],
   "source": [
    "import weaviate\n",
    "\n",
    "client = weaviate.Client(\"http://localhost:8080\")\n",
    "\n",
    "# lets add some data\n",
    "contents = [\n",
    "    {\"wordCount\": 10, \"title\": \"Text one\"},\n",
    "    {\"wordCount\": 1001, \"title\": \"Text two\"}\n",
    "]\n",
    "# clear server\n",
    "client.schema.delete_all()"
   ]
  },
  {
   "cell_type": "code",
   "execution_count": 8,
   "id": "0e617788-5a47-4fec-bc0f-562db35a9869",
   "metadata": {},
   "outputs": [],
   "source": [
    "with client.batch(\n",
    "    batch_size=200,\n",
    "    num_workers=1,\n",
    ") as batch:\n",
    "    for content in contents:\n",
    "        batch.add_data_object(content, \"Article\")"
   ]
  },
  {
   "cell_type": "code",
   "execution_count": 13,
   "id": "f29195b8-ac9c-44a9-a6b1-236590b5b3c3",
   "metadata": {},
   "outputs": [
    {
     "name": "stdout",
     "output_type": "stream",
     "text": [
      "{'data': {'Get': {'Article': [{'title': 'Text two'}]}}}\n"
     ]
    }
   ],
   "source": [
    "where_filter = {\n",
    "    \"path\": [\"wordCount\"],\n",
    "    \"operator\": \"GreaterThan\",\n",
    "    #\"valueInt\": 1,\n",
    "    \"valueNumber\": 1000\n",
    "}\n",
    "\n",
    "query_result = (\n",
    "  client.query\n",
    "  .get(\"Article\", \"title\")\n",
    "  .with_where(where_filter)\n",
    "  .do()\n",
    ")\n",
    "\n",
    "print(query_result)"
   ]
  }
 ],
 "metadata": {
  "kernelspec": {
   "display_name": "Python 3 (ipykernel)",
   "language": "python",
   "name": "python3"
  },
  "language_info": {
   "codemirror_mode": {
    "name": "ipython",
    "version": 3
   },
   "file_extension": ".py",
   "mimetype": "text/x-python",
   "name": "python",
   "nbconvert_exporter": "python",
   "pygments_lexer": "ipython3",
   "version": "3.10.12"
  }
 },
 "nbformat": 4,
 "nbformat_minor": 5
}
